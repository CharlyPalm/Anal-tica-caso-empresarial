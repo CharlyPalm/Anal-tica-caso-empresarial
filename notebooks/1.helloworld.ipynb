{
 "cells": [
  {
   "cell_type": "code",
   "execution_count": null,
   "metadata": {},
   "outputs": [],
   "source": [
    "import pandas as pd"
   ]
  },
  {
   "cell_type": "code",
   "execution_count": null,
   "metadata": {},
   "outputs": [],
   "source": [
    "df = pd.read_csv(\"../data/raw/BTCUSDT.csv\")\n",
    "df"
   ]
  },
  {
   "cell_type": "code",
   "execution_count": null,
   "metadata": {},
   "outputs": [],
   "source": [
    "df.info()"
   ]
  },
  {
   "cell_type": "code",
   "execution_count": null,
   "metadata": {},
   "outputs": [],
   "source": [
    "df.describe()"
   ]
  },
  {
   "cell_type": "code",
   "execution_count": null,
   "metadata": {},
   "outputs": [],
   "source": [
    "# Save in df the columns 'timestamp', 'open', 'high', 'low', 'close', 'volume' \n",
    "df = df[['timestamp', 'close', 'volume', 'quote_asset_volume', 'number_of_trades', 'taker_buy_base_asset_volume', 'taker_buy_quote_asset_volume']]\n",
    "df\n",
    "\n",
    "# Only save the rows where the timestamp is the biggest value of the of the day\n"
   ]
  },
  {
   "cell_type": "code",
   "execution_count": null,
   "metadata": {},
   "outputs": [],
   "source": [
    "# Convert data to DataFrame\n",
    "df = pd.DataFrame(df)\n",
    "\n",
    "# Convert the string timestamp column to datetime\n",
    "df['date'] = pd.to_datetime(df['timestamp'])\n",
    "\n",
    "df"
   ]
  },
  {
   "cell_type": "code",
   "execution_count": null,
   "metadata": {},
   "outputs": [],
   "source": [
    "df.drop('timestamp', axis=1, inplace=True)\n",
    "df"
   ]
  },
  {
   "cell_type": "code",
   "execution_count": null,
   "metadata": {},
   "outputs": [],
   "source": [
    "# Check for the last row of the day\n",
    "# Convert 'date' column to datetime format\n",
    "df['date'] = pd.to_datetime(df['date'])\n",
    "\n",
    "# Extract the date and time separately\n",
    "df['date_only'] = df['date'].dt.date\n",
    "df['time_only'] = df['date'].dt.time\n",
    "\n",
    "# Group by date and get the last entry for each day\n",
    "last_time_of_day = df.groupby('date_only').tail(1)\n",
    "\n",
    "last_time_of_day\n",
    "last_time_of_day.to_csv('../data/raw/last_time_of_day.csv', index=False)\n",
    "df = pd.read_csv('../data/raw/last_time_of_day.csv')\n",
    "df\n"
   ]
  },
  {
   "cell_type": "code",
   "execution_count": null,
   "metadata": {},
   "outputs": [],
   "source": []
  },
  {
   "cell_type": "code",
   "execution_count": null,
   "metadata": {},
   "outputs": [],
   "source": [
    "# Creating a new column with the promedio of the open and close columns\n",
    "#df['promedio'] = (df['open'] + df['close']) / 2\n",
    "df"
   ]
  },
  {
   "cell_type": "code",
   "execution_count": null,
   "metadata": {},
   "outputs": [],
   "source": [
    "# Set training data \n",
    "X = df[['volume', 'quote_asset_volume', 'number_of_trades', 'taker_buy_base_asset_volume', 'taker_buy_quote_asset_volume']]\n",
    "Y = df['close']\n",
    "\n",
    "X.shape, Y.shape\n"
   ]
  },
  {
   "cell_type": "code",
   "execution_count": null,
   "metadata": {},
   "outputs": [],
   "source": [
    "# Split the data into training and test sets\n",
    "from sklearn.model_selection import train_test_split\n",
    "\n",
    "X_train, X_test, Y_train, Y_test = train_test_split(X, Y, test_size=0.2, random_state=2)"
   ]
  },
  {
   "cell_type": "code",
   "execution_count": null,
   "metadata": {},
   "outputs": [],
   "source": [
    "X_train.shape, X_test.shape, Y_train.shape, Y_test.shape"
   ]
  },
  {
   "cell_type": "code",
   "execution_count": null,
   "metadata": {},
   "outputs": [],
   "source": [
    "# Linear refression model\n",
    "from sklearn import linear_model\n",
    "from sklearn.metrics import mean_squared_error, r2_score\n"
   ]
  },
  {
   "cell_type": "code",
   "execution_count": null,
   "metadata": {},
   "outputs": [],
   "source": [
    "# Builing model\n",
    "model = linear_model.LinearRegression()\n",
    "model.fit(X_train, Y_train)\n"
   ]
  },
  {
   "cell_type": "code",
   "execution_count": null,
   "metadata": {},
   "outputs": [],
   "source": [
    "# Apply trained model to make prediction (on test set)\n",
    "Y_pred = model.predict(X_test)"
   ]
  },
  {
   "cell_type": "code",
   "execution_count": null,
   "metadata": {},
   "outputs": [],
   "source": [
    "print('Coefficients: \\n', model.coef_)\n",
    "print('Intercept: \\n', model.intercept_)\n",
    "print('Mean squared error: %.2f' % mean_squared_error(Y_test, Y_pred))\n",
    "print('Coefficient of determination: %.2f' % r2_score(Y_test, Y_pred))\n",
    "\n",
    "print()"
   ]
  },
  {
   "cell_type": "code",
   "execution_count": null,
   "metadata": {},
   "outputs": [],
   "source": [
    "# Graphical representation\n",
    "import matplotlib.pyplot as plt\n",
    "\n",
    "plt.scatter(Y_test, Y_pred)\n",
    "plt.xlabel('True values')\n",
    "plt.ylabel('Predictions')\n",
    "plt.show()\n",
    "\n"
   ]
  },
  {
   "cell_type": "code",
   "execution_count": null,
   "metadata": {},
   "outputs": [],
   "source": [
    "# Now, creating a random forest model to predict the promedio column and future values on time\n",
    "from sklearn.ensemble import RandomForestRegressor\n",
    "\n",
    "# Building model\n",
    "model = RandomForestRegressor(n_estimators=100, random_state=2)\n",
    "model.fit(X_train, Y_train)\n",
    "\n",
    "# Apply trained model to make prediction (on test set)\n",
    "Y_pred = model.predict(X_test)\n",
    "\n",
    "print('Mean squared error: %.2f' % mean_squared_error(Y_test, Y_pred))\n",
    "print('Coefficient of determination: %.2f' % r2_score(Y_test, Y_pred))\n",
    "\n",
    "# Saving the predicted data on a csv file\n",
    "df = pd.DataFrame({'True': Y_test, 'Predicted': Y_pred})\n",
    "df.to_csv('../data/processed/true_vs_predicted.csv', index=False)\n",
    "\n",
    "\n",
    "\n",
    "# Print the difference between the true values and the predictions\n",
    "print(Y_test - Y_pred)\n",
    "\n",
    "\n",
    "\n"
   ]
  },
  {
   "cell_type": "code",
   "execution_count": null,
   "metadata": {},
   "outputs": [],
   "source": [
    "from sklearn.linear_model import LinearRegression\n",
    "from sklearn.model_selection import train_test_split\n",
    "import pandas as pd\n",
    "import numpy as np\n",
    "\n",
    "# Assuming df is your DataFrame and it has columns 'date' and 'value'\n",
    "df['date'] = pd.to_datetime(df['date'])\n",
    "df['date'] = df['date'].map(dt.datetime.toordinal)\n",
    "\n",
    "X = df['date'].values.reshape(-1,1)\n",
    "y = df['close']\n",
    "\n",
    "X_train, X_test, y_train, y_test = train_test_split(X, y, test_size=0.2, random_state=0)\n",
    "\n",
    "model = LinearRegression()\n",
    "model.fit(X_train, y_train)\n",
    "\n",
    "# Predict a value for a date larger than those in the dataset\n",
    "future_date = pd.to_datetime('2025-01-01').toordinal()\n",
    "predicted_value = model.predict(np.array([[future_date]]))\n",
    "\n",
    "print(predicted_value)"
   ]
  }
 ],
 "metadata": {
  "kernelspec": {
   "display_name": "criptoanalytic",
   "language": "python",
   "name": "python3"
  },
  "language_info": {
   "codemirror_mode": {
    "name": "ipython",
    "version": 3
   },
   "file_extension": ".py",
   "mimetype": "text/x-python",
   "name": "python",
   "nbconvert_exporter": "python",
   "pygments_lexer": "ipython3",
   "version": "3.10.14"
  }
 },
 "nbformat": 4,
 "nbformat_minor": 2
}
